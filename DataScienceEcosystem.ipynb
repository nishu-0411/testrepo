{
 "cells": [
  {
   "cell_type": "markdown",
   "metadata": {},
   "source": [
    "<center>\n",
    "    <img src=\"https://cf-courses-data.s3.us.cloud-object-storage.appdomain.cloud/IBMDeveloperSkillsNetwork-DS0105EN-SkillsNetwork/labs/Module2/images/SN_web_lightmode.png\" width=\"300\" alt=\"cognitiveclass.ai logo\">\n",
    "</center>\n"
   ]
  },
  {
   "cell_type": "markdown",
   "metadata": {},
   "source": [
    "#### Add your code below following the instructions given in the course\n"
   ]
  },
  {
   "cell_type": "markdown",
   "metadata": {},
   "source": [
    "\n",
    "#                                            Data Science Tools and Ecosystem"
   ]
  },
  {
   "cell_type": "markdown",
   "metadata": {},
   "source": [
    "\n",
    "##                                             Introduction to Data Science\n",
    "### It is a field of analysing, playing, and then arriving at different conclusions regarding various sorts of data."
   ]
  },
  {
   "cell_type": "markdown",
   "metadata": {},
   "source": [
    "##                                                  Data Science Languages\n",
    "## Python, SQL, R, Javascript etc etc."
   ]
  },
  {
   "cell_type": "markdown",
   "metadata": {},
   "source": [
    "#                                                  Data Science Libraries\n",
    "## Few Data Science Libraries in Python are NumPy, Pandas, Matplotlib, TensorFlow etc.\n",
    "## Few Data Science Libraries in R are ggplot, cerat etc."
   ]
  },
  {
   "cell_type": "markdown",
   "metadata": {},
   "source": [
    "##                                               Table of Data Science Tools\n",
    "##                                                  |  Jupyter Notebook  |\n",
    "##                                                  |    Apache Spark    |\n",
    "##                                                  |       SPSS         |\n",
    "##                                                  |  Microsoft PowerBI |\n",
    "##                                                  | IBM's WATSON STUDIO|"
   ]
  },
  {
   "cell_type": "markdown",
   "metadata": {},
   "source": [
    "##                                          Introduction to Arithmatic Expressions\n",
    "#### a=10,b=30 \n",
    "#### various arithmatic operations are \n",
    "#### a+b=40, b-a=20, a*b=300, b/a=3, b%a=0\n"
   ]
  },
  {
   "cell_type": "code",
   "execution_count": 9,
   "metadata": {},
   "outputs": [
    {
     "name": "stdin",
     "output_type": "stream",
     "text": [
      "Enter a number= 3\n",
      "Enter other number= 4\n"
     ]
    },
    {
     "name": "stdout",
     "output_type": "stream",
     "text": [
      "The addition of numbers= 7\n",
      "The multiplication of numbers= 12\n",
      "Simple Add/Multiply= 33\n"
     ]
    }
   ],
   "source": [
    "a=int(input(\"Enter a number=\"))\n",
    "b=int(input(\"Enter other number=\")) \n",
    "print(\"The addition of numbers=\",a+b)\n",
    "print(\"The multiplication of numbers=\",a*b)\n",
    "\n",
    "print(\"Simple Add/Multiply=\",3+(5*6))"
   ]
  },
  {
   "cell_type": "code",
   "execution_count": 10,
   "metadata": {},
   "outputs": [
    {
     "name": "stdin",
     "output_type": "stream",
     "text": [
      "Enter the number of minutes:  240\n"
     ]
    },
    {
     "name": "stdout",
     "output_type": "stream",
     "text": [
      "Hours= 4.0\n"
     ]
    }
   ],
   "source": [
    "a=int(input(\"Enter the number of minutes: \"))\n",
    "hours=a/60;\n",
    "print(\"Hours=\",hours)\n"
   ]
  },
  {
   "cell_type": "markdown",
   "metadata": {},
   "source": [
    "##                                                       List of Objectives\n",
    "##           1. Understand basic concepts of Data Science.\n",
    "##           2. Understanding about various types of Data Science Tools & Libraries used.\n",
    "##           3. Implementing basic programming used in Data Science\n",
    "##           4. Implementing various libraries to plot datasets\n"
   ]
  },
  {
   "cell_type": "markdown",
   "metadata": {},
   "source": [
    "##                                                      Author Details\n",
    "\n",
    "##                                                      Nisarg Trivedi\n",
    "##                                                          Author"
   ]
  },
  {
   "cell_type": "code",
   "execution_count": null,
   "metadata": {},
   "outputs": [],
   "source": []
  }
 ],
 "metadata": {
  "kernelspec": {
   "display_name": "Python 3 (ipykernel)",
   "language": "python",
   "name": "python3"
  },
  "language_info": {
   "codemirror_mode": {
    "name": "ipython",
    "version": 3
   },
   "file_extension": ".py",
   "mimetype": "text/x-python",
   "name": "python",
   "nbconvert_exporter": "python",
   "pygments_lexer": "ipython3",
   "version": "3.12.8"
  }
 },
 "nbformat": 4,
 "nbformat_minor": 4
}
